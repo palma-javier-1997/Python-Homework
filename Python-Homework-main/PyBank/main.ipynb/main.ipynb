{
 "cells": [
  {
   "cell_type": "code",
   "execution_count": 23,
   "id": "3f5340fd-2c14-420a-b6df-9f1e40a62b38",
   "metadata": {},
   "outputs": [],
   "source": [
    "#find the averages for: Total_months, Total, Average_change, biggest profit \n",
    "#import path and csv\n",
    "#create a list to execute "
   ]
  },
  {
   "cell_type": "code",
   "execution_count": 24,
   "id": "77551fce-d4c8-4a5d-8dee-52bfffc568fb",
   "metadata": {},
   "outputs": [],
   "source": [
    "from pathlib import Path\n",
    "import csv"
   ]
  },
  {
   "cell_type": "code",
   "execution_count": 25,
   "id": "62164272-0271-4c0e-bbf6-0adaa3e9986a",
   "metadata": {},
   "outputs": [
    {
     "name": "stdout",
     "output_type": "stream",
     "text": [
      "Current Working Directry : C:\\Users\\javie\\OneDrive\\Desktop\\NorthWestern\\Python-Homework-main\\PyBank\\main.ipynb\n"
     ]
    }
   ],
   "source": [
    "print(f\"Current Working Directry : {Path.cwd()}\")"
   ]
  },
  {
   "cell_type": "code",
   "execution_count": 26,
   "id": "c9990085-f384-4269-bd49-e2bc482bf7bc",
   "metadata": {},
   "outputs": [],
   "source": [
    "csvpath = Path('C:/Users/javie/OneDrive/Desktop/NorthWestern/nu-chi-virt-fin-pt-04-2021-u-c/02-Python/Homework/Instructions/PyBank/Resources/budget_data.csv')"
   ]
  },
  {
   "cell_type": "code",
   "execution_count": 27,
   "id": "8fc57aa0-761e-4d6f-9b4d-e06ce5e668e9",
   "metadata": {},
   "outputs": [],
   "source": [
    "profit_losses = []\n",
    "line_count =0"
   ]
  },
  {
   "cell_type": "code",
   "execution_count": 28,
   "id": "90bea740-1f19-4563-9d18-c72a2f5e969a",
   "metadata": {},
   "outputs": [
    {
     "name": "stdout",
     "output_type": "stream",
     "text": [
      "['Jan-2010', '867884']\n",
      "['Feb-2010', '984655']\n",
      "['Mar-2010', '322013']\n",
      "['Apr-2010', '-69417']\n",
      "['May-2010', '310503']\n",
      "['Jun-2010', '522857']\n",
      "['Jul-2010', '1033096']\n",
      "['Aug-2010', '604885']\n",
      "['Sep-2010', '-216386']\n",
      "['Oct-2010', '477532']\n",
      "['Nov-2010', '893810']\n",
      "['Dec-2010', '-80353']\n",
      "['Jan-2011', '779806']\n",
      "['Feb-2011', '-335203']\n",
      "['Mar-2011', '697845']\n",
      "['Apr-2011', '793163']\n",
      "['May-2011', '485070']\n",
      "['Jun-2011', '584122']\n",
      "['Jul-2011', '62729']\n",
      "['Aug-2011', '668179']\n",
      "['Sep-2011', '899906']\n",
      "['Oct-2011', '834719']\n",
      "['Nov-2011', '132003']\n",
      "['Dec-2011', '309978']\n",
      "['Jan-2012', '-755566']\n",
      "['Feb-2012', '1170593']\n",
      "['Mar-2012', '252788']\n",
      "['Apr-2012', '1151518']\n",
      "['May-2012', '817256']\n",
      "['Jun-2012', '570757']\n",
      "['Jul-2012', '506702']\n",
      "['Aug-2012', '-1022534']\n",
      "['Sep-2012', '475062']\n",
      "['Oct-2012', '779976']\n",
      "['Nov-2012', '144175']\n",
      "['Dec-2012', '542494']\n",
      "['Jan-2013', '359333']\n",
      "['Feb-2013', '321469']\n",
      "['Mar-2013', '67780']\n",
      "['Apr-2013', '471435']\n",
      "['May-2013', '565603']\n",
      "['Jun-2013', '872480']\n",
      "['Jul-2013', '789480']\n",
      "['Aug-2013', '999942']\n",
      "['Sep-2013', '-1196225']\n",
      "['Oct-2013', '268997']\n",
      "['Nov-2013', '-687986']\n",
      "['Dec-2013', '1150461']\n",
      "['Jan-2014', '682458']\n",
      "['Feb-2014', '617856']\n",
      "['Mar-2014', '824098']\n",
      "['Apr-2014', '581943']\n",
      "['May-2014', '132864']\n",
      "['Jun-2014', '448062']\n",
      "['Jul-2014', '689161']\n",
      "['Aug-2014', '800701']\n",
      "['Sep-2014', '1166643']\n",
      "['Oct-2014', '947333']\n",
      "['Nov-2014', '578668']\n",
      "['Dec-2014', '988505']\n",
      "['Jan-2015', '1139715']\n",
      "['Feb-2015', '1029471']\n",
      "['Mar-2015', '687533']\n",
      "['Apr-2015', '-524626']\n",
      "['May-2015', '158620']\n",
      "['Jun-2015', '87795']\n",
      "['Jul-2015', '423389']\n",
      "['Aug-2015', '840723']\n",
      "['Sep-2015', '568529']\n",
      "['Oct-2015', '332067']\n",
      "['Nov-2015', '989499']\n",
      "['Dec-2015', '778237']\n",
      "['Jan-2016', '650000']\n",
      "['Feb-2016', '-1100387']\n",
      "['Mar-2016', '-174946']\n",
      "['Apr-2016', '757143']\n",
      "['May-2016', '445709']\n",
      "['Jun-2016', '712961']\n",
      "['Jul-2016', '-1163797']\n",
      "['Aug-2016', '569899']\n",
      "['Sep-2016', '768450']\n",
      "['Oct-2016', '102685']\n",
      "['Nov-2016', '795914']\n",
      "['Dec-2016', '60988']\n",
      "['Jan-2017', '138230']\n",
      "['Feb-2017', '671099']\n"
     ]
    }
   ],
   "source": [
    "#open the csvfile\n",
    "with open(csvpath, 'r') as csvfile:\n",
    "    csvreader = csv.reader(csvfile, delimiter =',')\n",
    "    \n",
    "    \n",
    "    header = next(csvreader)\n",
    "    line_count += 1\n",
    "    \n",
    "    for row in csvreader:\n",
    "        print(row)\n",
    "        profit_loss = int(row[1])\n",
    "        profit_losses.append(profit_loss)"
   ]
  },
  {
   "cell_type": "code",
   "execution_count": 29,
   "id": "93034489-e2f8-48fc-8c73-c711cf41e746",
   "metadata": {},
   "outputs": [],
   "source": [
    "#Initialize the variables\n",
    "Total_months = 0\n",
    "Total = 0\n",
    "Average_change = 0\n",
    "Greatest_profits = 0\n",
    "Greatest_loss = 0"
   ]
  },
  {
   "cell_type": "code",
   "execution_count": 30,
   "id": "63276449-1cea-4154-ab7b-efdda94b03a1",
   "metadata": {},
   "outputs": [
    {
     "name": "stdout",
     "output_type": "stream",
     "text": [
      "86\n"
     ]
    }
   ],
   "source": [
    "\n",
    "Total_months = len(profit_losses)\n",
    "print(Total_months)"
   ]
  },
  {
   "cell_type": "code",
   "execution_count": 31,
   "id": "62a04cf7-aca9-433e-9252-daa6bd46d8e1",
   "metadata": {},
   "outputs": [
    {
     "name": "stdout",
     "output_type": "stream",
     "text": [
      "38382578\n"
     ]
    }
   ],
   "source": [
    "Total= sum(profit_losses)\n",
    "print(Total)"
   ]
  },
  {
   "cell_type": "code",
   "execution_count": 32,
   "id": "d7569acb-ba1d-49fd-853f-990dca43a524",
   "metadata": {},
   "outputs": [
    {
     "name": "stdout",
     "output_type": "stream",
     "text": [
      "446309.05\n"
     ]
    }
   ],
   "source": [
    "Avg_change = (round(Total/Total_months,2))\n",
    "print(Avg_change)"
   ]
  },
  {
   "cell_type": "code",
   "execution_count": 33,
   "id": "b656e9d7-fec6-4405-80cc-f9fc5bee4638",
   "metadata": {},
   "outputs": [
    {
     "name": "stdout",
     "output_type": "stream",
     "text": [
      "1170593\n"
     ]
    }
   ],
   "source": [
    "Greatest_profit = max(profit_losses)\n",
    "print(Greatest_profit)"
   ]
  },
  {
   "cell_type": "code",
   "execution_count": 34,
   "id": "d002a1ae-9111-433a-a827-03410fb0bda3",
   "metadata": {},
   "outputs": [
    {
     "name": "stdout",
     "output_type": "stream",
     "text": [
      "-1196225\n"
     ]
    }
   ],
   "source": [
    "Decrease_profit = min(profit_losses)\n",
    "print(Decrease_profit)"
   ]
  },
  {
   "cell_type": "code",
   "execution_count": 35,
   "id": "fbc04298-bf71-4fe7-a601-143ee2aca8b3",
   "metadata": {},
   "outputs": [
    {
     "name": "stdout",
     "output_type": "stream",
     "text": [
      "Financial analysis\n",
      "------------------------\n",
      "Total Months:86\n",
      "Total: 38382578\n",
      "Average Change: 446309.05\n",
      "Greatest Increase in Profits: 1170593\n",
      "Greatest Decrease in Profits: -1196225\n"
     ]
    }
   ],
   "source": [
    "print(\"Financial analysis\")\n",
    "print(\"------------------------\")\n",
    "print(f\"Total Months:{Total_months}\")\n",
    "print(f\"Total: {Total}\")\n",
    "print(f\"Average Change: {Avg_change}\")\n",
    "print(f\"Greatest Increase in Profits: {Greatest_profit}\")\n",
    "print(f\"Greatest Decrease in Profits: {Decrease_profit}\")"
   ]
  },
  {
   "cell_type": "code",
   "execution_count": 36,
   "id": "60831f44-b8e5-45d1-8f50-317d5e1176bf",
   "metadata": {},
   "outputs": [],
   "source": [
    "output_path = Path(\"financial_text.txt\")"
   ]
  },
  {
   "cell_type": "code",
   "execution_count": 38,
   "id": "e6a596b9-205b-467d-a639-4c0ff01944d4",
   "metadata": {},
   "outputs": [],
   "source": [
    "with open(output_path, 'w') as file:\n",
    "    file.write(\"Financial Analysis\\n\")\n",
    "    file.write(\"-------------------------\\n\")\n",
    "    file.write(f\"Total Months: {Total_months}\\n\")\n",
    "    file.write(f\"Total: {Total}\\n\")\n",
    "    file.write(f\"Average Change: {Avg_change}\\n\")\n",
    "    file.write(f\"Greatest Increase in Profits: {Greatest_profit}\\n\")\n",
    "    file.write(f\"Greatest Decrease in Profits: {Decrease_profit}\\n\")"
   ]
  },
  {
   "cell_type": "code",
   "execution_count": null,
   "id": "88fc7bf4-4bf5-4494-9a6d-59c71fcb8168",
   "metadata": {},
   "outputs": [],
   "source": []
  }
 ],
 "metadata": {
  "kernelspec": {
   "display_name": "Python 3",
   "language": "python",
   "name": "python3"
  },
  "language_info": {
   "codemirror_mode": {
    "name": "ipython",
    "version": 3
   },
   "file_extension": ".py",
   "mimetype": "text/x-python",
   "name": "python",
   "nbconvert_exporter": "python",
   "pygments_lexer": "ipython3",
   "version": "3.8.5"
  }
 },
 "nbformat": 4,
 "nbformat_minor": 5
}
